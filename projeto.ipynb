{
 "cells": [
  {
   "cell_type": "markdown",
   "metadata": {},
   "source": [
    "# AVALIAÇÃO 1 - PROGRAMAÇÃO EM FINANÇAS\n",
    "#### Professor: Julio Russo\n",
    "#### Disciplina: Programação em Finanças\n",
    "#### Turma: 2025.1\n",
    "#### Alunos: Lucas dos Santos Marques, Luiz Fernando M. Meirinho , Victor A. S. de Souza e Victor Flávio P. Dornelos\n",
    "#### Data: 16/04/2025\n"
   ]
  },
  {
   "cell_type": "markdown",
   "metadata": {},
   "source": [
    "### 1 - Introdução\n",
    "\n",
    "Este projeto tem como objetivo responder às questões propostas na Avaliação 1 da disciplina **Programação em Finanças**. Para isso, o presente notebook reúne tanto a implementação dos códigos em Python quanto as análises correspondentes realizadas a partir dos resultados.\n",
    "\n",
    "O desenvolvimento está sendo feito no **Visual Studio Code (VS Code)**, mas o código pode ser executado em qualquer IDE compatível com Python. Todas as bibliotecas utilizadas estão listadas no arquivo `requirements.txt`, e o projeto foi desenvolvido utilizando a versão **3.12.0 do Python**.\n"
   ]
  },
  {
   "cell_type": "code",
   "execution_count": 6,
   "metadata": {},
   "outputs": [
    {
     "name": "stdout",
     "output_type": "stream",
     "text": [
      "Requirement already satisfied: pandas in ./.venv/lib/python3.12/site-packages (from -r requirements.txt (line 1)) (2.2.3)\n",
      "Requirement already satisfied: numpy in ./.venv/lib/python3.12/site-packages (from -r requirements.txt (line 2)) (2.2.4)\n",
      "Requirement already satisfied: matplotlib in ./.venv/lib/python3.12/site-packages (from -r requirements.txt (line 3)) (3.10.1)\n",
      "Requirement already satisfied: seaborn in ./.venv/lib/python3.12/site-packages (from -r requirements.txt (line 4)) (0.13.2)\n",
      "Requirement already satisfied: plotly in ./.venv/lib/python3.12/site-packages (from -r requirements.txt (line 5)) (6.0.1)\n",
      "Collecting nbformat (from -r requirements.txt (line 6))\n",
      "  Using cached nbformat-5.10.4-py3-none-any.whl.metadata (3.6 kB)\n",
      "Requirement already satisfied: python-dateutil>=2.8.2 in ./.venv/lib/python3.12/site-packages (from pandas->-r requirements.txt (line 1)) (2.9.0.post0)\n",
      "Requirement already satisfied: pytz>=2020.1 in ./.venv/lib/python3.12/site-packages (from pandas->-r requirements.txt (line 1)) (2025.2)\n",
      "Requirement already satisfied: tzdata>=2022.7 in ./.venv/lib/python3.12/site-packages (from pandas->-r requirements.txt (line 1)) (2025.2)\n",
      "Requirement already satisfied: contourpy>=1.0.1 in ./.venv/lib/python3.12/site-packages (from matplotlib->-r requirements.txt (line 3)) (1.3.1)\n",
      "Requirement already satisfied: cycler>=0.10 in ./.venv/lib/python3.12/site-packages (from matplotlib->-r requirements.txt (line 3)) (0.12.1)\n",
      "Requirement already satisfied: fonttools>=4.22.0 in ./.venv/lib/python3.12/site-packages (from matplotlib->-r requirements.txt (line 3)) (4.57.0)\n",
      "Requirement already satisfied: kiwisolver>=1.3.1 in ./.venv/lib/python3.12/site-packages (from matplotlib->-r requirements.txt (line 3)) (1.4.8)\n",
      "Requirement already satisfied: packaging>=20.0 in ./.venv/lib/python3.12/site-packages (from matplotlib->-r requirements.txt (line 3)) (24.2)\n",
      "Requirement already satisfied: pillow>=8 in ./.venv/lib/python3.12/site-packages (from matplotlib->-r requirements.txt (line 3)) (11.1.0)\n",
      "Requirement already satisfied: pyparsing>=2.3.1 in ./.venv/lib/python3.12/site-packages (from matplotlib->-r requirements.txt (line 3)) (3.2.3)\n",
      "Requirement already satisfied: narwhals>=1.15.1 in ./.venv/lib/python3.12/site-packages (from plotly->-r requirements.txt (line 5)) (1.33.0)\n",
      "Collecting fastjsonschema>=2.15 (from nbformat->-r requirements.txt (line 6))\n",
      "  Downloading fastjsonschema-2.21.1-py3-none-any.whl.metadata (2.2 kB)\n",
      "Collecting jsonschema>=2.6 (from nbformat->-r requirements.txt (line 6))\n",
      "  Downloading jsonschema-4.23.0-py3-none-any.whl.metadata (7.9 kB)\n",
      "Requirement already satisfied: jupyter-core!=5.0.*,>=4.12 in ./.venv/lib/python3.12/site-packages (from nbformat->-r requirements.txt (line 6)) (5.7.2)\n",
      "Requirement already satisfied: traitlets>=5.1 in ./.venv/lib/python3.12/site-packages (from nbformat->-r requirements.txt (line 6)) (5.14.3)\n",
      "Collecting attrs>=22.2.0 (from jsonschema>=2.6->nbformat->-r requirements.txt (line 6))\n",
      "  Downloading attrs-25.3.0-py3-none-any.whl.metadata (10 kB)\n",
      "Collecting jsonschema-specifications>=2023.03.6 (from jsonschema>=2.6->nbformat->-r requirements.txt (line 6))\n",
      "  Downloading jsonschema_specifications-2024.10.1-py3-none-any.whl.metadata (3.0 kB)\n",
      "Collecting referencing>=0.28.4 (from jsonschema>=2.6->nbformat->-r requirements.txt (line 6))\n",
      "  Downloading referencing-0.36.2-py3-none-any.whl.metadata (2.8 kB)\n",
      "Collecting rpds-py>=0.7.1 (from jsonschema>=2.6->nbformat->-r requirements.txt (line 6))\n",
      "  Downloading rpds_py-0.24.0-cp312-cp312-macosx_10_12_x86_64.whl.metadata (4.1 kB)\n",
      "Requirement already satisfied: platformdirs>=2.5 in ./.venv/lib/python3.12/site-packages (from jupyter-core!=5.0.*,>=4.12->nbformat->-r requirements.txt (line 6)) (4.3.7)\n",
      "Requirement already satisfied: six>=1.5 in ./.venv/lib/python3.12/site-packages (from python-dateutil>=2.8.2->pandas->-r requirements.txt (line 1)) (1.17.0)\n",
      "Collecting typing-extensions>=4.4.0 (from referencing>=0.28.4->jsonschema>=2.6->nbformat->-r requirements.txt (line 6))\n",
      "  Downloading typing_extensions-4.13.0-py3-none-any.whl.metadata (3.0 kB)\n",
      "Using cached nbformat-5.10.4-py3-none-any.whl (78 kB)\n",
      "Downloading fastjsonschema-2.21.1-py3-none-any.whl (23 kB)\n",
      "Downloading jsonschema-4.23.0-py3-none-any.whl (88 kB)\n",
      "Downloading attrs-25.3.0-py3-none-any.whl (63 kB)\n",
      "Downloading jsonschema_specifications-2024.10.1-py3-none-any.whl (18 kB)\n",
      "Downloading referencing-0.36.2-py3-none-any.whl (26 kB)\n",
      "Downloading rpds_py-0.24.0-cp312-cp312-macosx_10_12_x86_64.whl (366 kB)\n",
      "Downloading typing_extensions-4.13.0-py3-none-any.whl (45 kB)\n",
      "Installing collected packages: fastjsonschema, typing-extensions, rpds-py, attrs, referencing, jsonschema-specifications, jsonschema, nbformat\n",
      "Successfully installed attrs-25.3.0 fastjsonschema-2.21.1 jsonschema-4.23.0 jsonschema-specifications-2024.10.1 nbformat-5.10.4 referencing-0.36.2 rpds-py-0.24.0 typing-extensions-4.13.0\n",
      "Note: you may need to restart the kernel to use updated packages.\n"
     ]
    }
   ],
   "source": [
    "pip install -r requirements.txt"
   ]
  },
  {
   "cell_type": "code",
   "execution_count": 7,
   "metadata": {},
   "outputs": [],
   "source": [
    "# Bibliotecas necessárias\n",
    "import pandas as pd\n",
    "import numpy as np\n",
    "import matplotlib.pyplot as plt\n",
    "import seaborn as sns\n",
    "import plotly.express as px"
   ]
  },
  {
   "cell_type": "markdown",
   "metadata": {},
   "source": [
    "# 2- Questão 1:"
   ]
  },
  {
   "cell_type": "markdown",
   "metadata": {},
   "source": [
    "### 1) CDBs e Conversão de Taxas\n",
    "\n",
    "Buscar ao menos **3 CDBs de bancos de sua preferência** que declarem **taxas ao ano** e transformá-las em **taxas capitalizadas mensalmente**, programando esse processo em Python.\n",
    "\n",
    "Além disso, declarar qual será o **retorno líquido dos investimentos, já descontados impostos e taxas**, para cada uma das opções analisadas.\n"
   ]
  },
  {
   "cell_type": "markdown",
   "metadata": {},
   "source": [
    "# 3 - Questão 2:"
   ]
  },
  {
   "cell_type": "markdown",
   "metadata": {},
   "source": [
    "### 2) Comparação de Retorno: Tesouro IPCA+ vs. Juros Pré-fixados\n",
    "\n",
    "Programar em Python uma simulação para comparar o **retorno líquido** entre o **Tesouro IPCA+** e um título com **juros pré-fixados**, considerando **tempos de vencimentos equivalentes**.\n",
    "\n",
    "O valor do investimento monetário fica a **critério do grupo simular**.\n",
    "\n",
    "O objetivo é verificar **qual dos dois investimentos se torna mais vantajoso após os descontos de impostos e taxas**.\n"
   ]
  },
  {
   "cell_type": "markdown",
   "metadata": {},
   "source": [
    "# 4- Questão 3: "
   ]
  },
  {
   "cell_type": "markdown",
   "metadata": {},
   "source": [
    "### 3) Programar em Python o quanto de aporte financeiro é necessário para alcançar em 7 anos, 10 anos e 12 anos:\n",
    "\n",
    "- A) R$30.000  \n",
    "- B) R$50.000  \n",
    "- C) R$100.000  \n",
    "\n",
    "Considerando uma **taxa de juros real efetiva de 7% ao ano** em todos esses cenários.\n"
   ]
  },
  {
   "cell_type": "code",
   "execution_count": 8,
   "metadata": {},
   "outputs": [],
   "source": [
    "def calcular_aporte_mensal(montante_desejado, anos, taxa_juros_anual=0.07):\n",
    "    # Conversão da taxa anual para mensal (taxa efetiva)\n",
    "    i = (1 + taxa_juros_anual) ** (1/12) - 1\n",
    "    n = anos * 12\n",
    "\n",
    "    # Cálculo do aporte mensal necessário\n",
    "    R = montante_desejado * i / ((1 + i) ** n - 1)\n",
    "\n",
    "    # Gerar evolução do montante mês a mês\n",
    "    meses = np.arange(1, n + 1)\n",
    "    montantes = R * ((1 + i) ** meses - 1) / i\n",
    "\n",
    "    # Criar DataFrame para o gráfico\n",
    "    df = pd.DataFrame({\n",
    "        'Mês': meses,\n",
    "        'Montante Acumulado (R$)': montantes\n",
    "    })\n",
    "\n",
    "    # Exibir o valor do aporte mensal\n",
    "    print(f\"Aporte mensal necessário para alcançar R$ {montante_desejado:,.2f} em {anos} anos:\")\n",
    "    print(f\"R$ {R:.2f} por mês\\n\")\n",
    "\n",
    "    # Gráfico com plotly.express\n",
    "    fig = px.line(df, x='Mês', y='Montante Acumulado (R$)',\n",
    "                  title=f'Evolução do Montante para Meta de R$ {montante_desejado:,.2f}',\n",
    "                  markers=True)\n",
    "    fig.update_layout(template='plotly_white')\n",
    "    fig.show()\n",
    "\n",
    "    return R\n"
   ]
  },
  {
   "cell_type": "code",
   "execution_count": 9,
   "metadata": {},
   "outputs": [
    {
     "name": "stdout",
     "output_type": "stream",
     "text": [
      "Aporte mensal necessário para alcançar R$ 30,000.00 em 7 anos:\n",
      "R$ 280.01 por mês\n",
      "\n"
     ]
    },
    {
     "ename": "ValueError",
     "evalue": "Mime type rendering requires nbformat>=4.2.0 but it is not installed",
     "output_type": "error",
     "traceback": [
      "\u001b[31m---------------------------------------------------------------------------\u001b[39m",
      "\u001b[31mValueError\u001b[39m                                Traceback (most recent call last)",
      "\u001b[36mCell\u001b[39m\u001b[36m \u001b[39m\u001b[32mIn[9]\u001b[39m\u001b[32m, line 1\u001b[39m\n\u001b[32m----> \u001b[39m\u001b[32m1\u001b[39m A = \u001b[43mcalcular_aporte_mensal\u001b[49m\u001b[43m(\u001b[49m\u001b[43mmontante_desejado\u001b[49m\u001b[43m=\u001b[49m\u001b[32;43m30000\u001b[39;49m\u001b[43m,\u001b[49m\u001b[43m \u001b[49m\u001b[43manos\u001b[49m\u001b[43m=\u001b[49m\u001b[32;43m7\u001b[39;49m\u001b[43m)\u001b[49m\n",
      "\u001b[36mCell\u001b[39m\u001b[36m \u001b[39m\u001b[32mIn[8]\u001b[39m\u001b[32m, line 28\u001b[39m, in \u001b[36mcalcular_aporte_mensal\u001b[39m\u001b[34m(montante_desejado, anos, taxa_juros_anual)\u001b[39m\n\u001b[32m     24\u001b[39m fig = px.line(df, x=\u001b[33m'\u001b[39m\u001b[33mMês\u001b[39m\u001b[33m'\u001b[39m, y=\u001b[33m'\u001b[39m\u001b[33mMontante Acumulado (R$)\u001b[39m\u001b[33m'\u001b[39m,\n\u001b[32m     25\u001b[39m               title=\u001b[33mf\u001b[39m\u001b[33m'\u001b[39m\u001b[33mEvolução do Montante para Meta de R$ \u001b[39m\u001b[38;5;132;01m{\u001b[39;00mmontante_desejado\u001b[38;5;132;01m:\u001b[39;00m\u001b[33m,.2f\u001b[39m\u001b[38;5;132;01m}\u001b[39;00m\u001b[33m'\u001b[39m,\n\u001b[32m     26\u001b[39m               markers=\u001b[38;5;28;01mTrue\u001b[39;00m)\n\u001b[32m     27\u001b[39m fig.update_layout(template=\u001b[33m'\u001b[39m\u001b[33mplotly_white\u001b[39m\u001b[33m'\u001b[39m)\n\u001b[32m---> \u001b[39m\u001b[32m28\u001b[39m \u001b[43mfig\u001b[49m\u001b[43m.\u001b[49m\u001b[43mshow\u001b[49m\u001b[43m(\u001b[49m\u001b[43m)\u001b[49m\n\u001b[32m     30\u001b[39m \u001b[38;5;28;01mreturn\u001b[39;00m R\n",
      "\u001b[36mFile \u001b[39m\u001b[32m~/Desktop/Projeto1_prog_fin/.venv/lib/python3.12/site-packages/plotly/basedatatypes.py:3414\u001b[39m, in \u001b[36mBaseFigure.show\u001b[39m\u001b[34m(self, *args, **kwargs)\u001b[39m\n\u001b[32m   3381\u001b[39m \u001b[38;5;250m\u001b[39m\u001b[33;03m\"\"\"\u001b[39;00m\n\u001b[32m   3382\u001b[39m \u001b[33;03mShow a figure using either the default renderer(s) or the renderer(s)\u001b[39;00m\n\u001b[32m   3383\u001b[39m \u001b[33;03mspecified by the renderer argument\u001b[39;00m\n\u001b[32m   (...)\u001b[39m\u001b[32m   3410\u001b[39m \u001b[33;03mNone\u001b[39;00m\n\u001b[32m   3411\u001b[39m \u001b[33;03m\"\"\"\u001b[39;00m\n\u001b[32m   3412\u001b[39m \u001b[38;5;28;01mimport\u001b[39;00m\u001b[38;5;250m \u001b[39m\u001b[34;01mplotly\u001b[39;00m\u001b[34;01m.\u001b[39;00m\u001b[34;01mio\u001b[39;00m\u001b[38;5;250m \u001b[39m\u001b[38;5;28;01mas\u001b[39;00m\u001b[38;5;250m \u001b[39m\u001b[34;01mpio\u001b[39;00m\n\u001b[32m-> \u001b[39m\u001b[32m3414\u001b[39m \u001b[38;5;28;01mreturn\u001b[39;00m \u001b[43mpio\u001b[49m\u001b[43m.\u001b[49m\u001b[43mshow\u001b[49m\u001b[43m(\u001b[49m\u001b[38;5;28;43mself\u001b[39;49m\u001b[43m,\u001b[49m\u001b[43m \u001b[49m\u001b[43m*\u001b[49m\u001b[43margs\u001b[49m\u001b[43m,\u001b[49m\u001b[43m \u001b[49m\u001b[43m*\u001b[49m\u001b[43m*\u001b[49m\u001b[43mkwargs\u001b[49m\u001b[43m)\u001b[49m\n",
      "\u001b[36mFile \u001b[39m\u001b[32m~/Desktop/Projeto1_prog_fin/.venv/lib/python3.12/site-packages/plotly/io/_renderers.py:425\u001b[39m, in \u001b[36mshow\u001b[39m\u001b[34m(fig, renderer, validate, **kwargs)\u001b[39m\n\u001b[32m    420\u001b[39m     \u001b[38;5;28;01mraise\u001b[39;00m \u001b[38;5;167;01mValueError\u001b[39;00m(\n\u001b[32m    421\u001b[39m         \u001b[33m\"\u001b[39m\u001b[33mMime type rendering requires ipython but it is not installed\u001b[39m\u001b[33m\"\u001b[39m\n\u001b[32m    422\u001b[39m     )\n\u001b[32m    424\u001b[39m \u001b[38;5;28;01mif\u001b[39;00m \u001b[38;5;129;01mnot\u001b[39;00m nbformat \u001b[38;5;129;01mor\u001b[39;00m Version(nbformat.__version__) < Version(\u001b[33m\"\u001b[39m\u001b[33m4.2.0\u001b[39m\u001b[33m\"\u001b[39m):\n\u001b[32m--> \u001b[39m\u001b[32m425\u001b[39m     \u001b[38;5;28;01mraise\u001b[39;00m \u001b[38;5;167;01mValueError\u001b[39;00m(\n\u001b[32m    426\u001b[39m         \u001b[33m\"\u001b[39m\u001b[33mMime type rendering requires nbformat>=4.2.0 but it is not installed\u001b[39m\u001b[33m\"\u001b[39m\n\u001b[32m    427\u001b[39m     )\n\u001b[32m    429\u001b[39m display_jupyter_version_warnings()\n\u001b[32m    431\u001b[39m ipython_display.display(bundle, raw=\u001b[38;5;28;01mTrue\u001b[39;00m)\n",
      "\u001b[31mValueError\u001b[39m: Mime type rendering requires nbformat>=4.2.0 but it is not installed"
     ]
    }
   ],
   "source": [
    "A = calcular_aporte_mensal(montante_desejado=30000, anos=7)\n"
   ]
  },
  {
   "cell_type": "code",
   "execution_count": null,
   "metadata": {},
   "outputs": [],
   "source": []
  }
 ],
 "metadata": {
  "kernelspec": {
   "display_name": ".venv",
   "language": "python",
   "name": "python3"
  },
  "language_info": {
   "codemirror_mode": {
    "name": "ipython",
    "version": 3
   },
   "file_extension": ".py",
   "mimetype": "text/x-python",
   "name": "python",
   "nbconvert_exporter": "python",
   "pygments_lexer": "ipython3",
   "version": "3.12.0"
  }
 },
 "nbformat": 4,
 "nbformat_minor": 2
}
