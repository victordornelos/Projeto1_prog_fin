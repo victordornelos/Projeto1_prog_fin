{
 "cells": [
  {
   "cell_type": "markdown",
   "metadata": {},
   "source": [
    "# AVALIAÇÃO 1 - PROGRAMAÇÃO EM FINANÇAS\n",
    "#### Professor: Julio Russo\n",
    "#### Disciplina: Programação em Finanças\n",
    "#### Turma: 2025.1\n",
    "#### Alunos: Lucas dos Santos Marques, Luiz Fernando M. Meirinho , Victor A. S. de Souza e Victor Flávio P. Dornelos\n",
    "#### Data: 16/04/2025\n"
   ]
  },
  {
   "cell_type": "markdown",
   "metadata": {},
   "source": [
    "### 1 - Introdução\n",
    "\n",
    "Este projeto tem como objetivo responder às questões propostas na Avaliação 1 da disciplina **Programação em Finanças**. Para isso, o presente notebook reúne tanto a implementação dos códigos em Python quanto as análises correspondentes realizadas a partir dos resultados.\n",
    "\n",
    "O desenvolvimento está sendo feito no **Visual Studio Code (VS Code)**, mas o código pode ser executado em qualquer IDE compatível com Python. Todas as bibliotecas utilizadas estão listadas no arquivo `requirements.txt`, e o projeto foi desenvolvido utilizando a versão **3.12.0 do Python**.\n"
   ]
  },
  {
   "cell_type": "code",
   "execution_count": 15,
   "metadata": {},
   "outputs": [
    {
     "name": "stdout",
     "output_type": "stream",
     "text": [
      "Requirement already satisfied: pandas in ./.venv/lib/python3.12/site-packages (from -r requirements.txt (line 1)) (2.2.3)\n",
      "Requirement already satisfied: numpy in ./.venv/lib/python3.12/site-packages (from -r requirements.txt (line 2)) (2.2.4)\n",
      "Requirement already satisfied: matplotlib in ./.venv/lib/python3.12/site-packages (from -r requirements.txt (line 3)) (3.10.1)\n",
      "Requirement already satisfied: seaborn in ./.venv/lib/python3.12/site-packages (from -r requirements.txt (line 4)) (0.13.2)\n",
      "Requirement already satisfied: plotly in ./.venv/lib/python3.12/site-packages (from -r requirements.txt (line 5)) (6.0.1)\n",
      "Requirement already satisfied: nbformat in ./.venv/lib/python3.12/site-packages (from -r requirements.txt (line 6)) (5.10.4)\n",
      "Collecting ipywidgets (from -r requirements.txt (line 7))\n",
      "  Downloading ipywidgets-8.1.5-py3-none-any.whl.metadata (2.3 kB)\n",
      "Requirement already satisfied: python-dateutil>=2.8.2 in ./.venv/lib/python3.12/site-packages (from pandas->-r requirements.txt (line 1)) (2.9.0.post0)\n",
      "Requirement already satisfied: pytz>=2020.1 in ./.venv/lib/python3.12/site-packages (from pandas->-r requirements.txt (line 1)) (2025.2)\n",
      "Requirement already satisfied: tzdata>=2022.7 in ./.venv/lib/python3.12/site-packages (from pandas->-r requirements.txt (line 1)) (2025.2)\n",
      "Requirement already satisfied: contourpy>=1.0.1 in ./.venv/lib/python3.12/site-packages (from matplotlib->-r requirements.txt (line 3)) (1.3.1)\n",
      "Requirement already satisfied: cycler>=0.10 in ./.venv/lib/python3.12/site-packages (from matplotlib->-r requirements.txt (line 3)) (0.12.1)\n",
      "Requirement already satisfied: fonttools>=4.22.0 in ./.venv/lib/python3.12/site-packages (from matplotlib->-r requirements.txt (line 3)) (4.57.0)\n",
      "Requirement already satisfied: kiwisolver>=1.3.1 in ./.venv/lib/python3.12/site-packages (from matplotlib->-r requirements.txt (line 3)) (1.4.8)\n",
      "Requirement already satisfied: packaging>=20.0 in ./.venv/lib/python3.12/site-packages (from matplotlib->-r requirements.txt (line 3)) (24.2)\n",
      "Requirement already satisfied: pillow>=8 in ./.venv/lib/python3.12/site-packages (from matplotlib->-r requirements.txt (line 3)) (11.1.0)\n",
      "Requirement already satisfied: pyparsing>=2.3.1 in ./.venv/lib/python3.12/site-packages (from matplotlib->-r requirements.txt (line 3)) (3.2.3)\n",
      "Requirement already satisfied: narwhals>=1.15.1 in ./.venv/lib/python3.12/site-packages (from plotly->-r requirements.txt (line 5)) (1.33.0)\n",
      "Requirement already satisfied: fastjsonschema>=2.15 in ./.venv/lib/python3.12/site-packages (from nbformat->-r requirements.txt (line 6)) (2.21.1)\n",
      "Requirement already satisfied: jsonschema>=2.6 in ./.venv/lib/python3.12/site-packages (from nbformat->-r requirements.txt (line 6)) (4.23.0)\n",
      "Requirement already satisfied: jupyter-core!=5.0.*,>=4.12 in ./.venv/lib/python3.12/site-packages (from nbformat->-r requirements.txt (line 6)) (5.7.2)\n",
      "Requirement already satisfied: traitlets>=5.1 in ./.venv/lib/python3.12/site-packages (from nbformat->-r requirements.txt (line 6)) (5.14.3)\n",
      "Requirement already satisfied: comm>=0.1.3 in ./.venv/lib/python3.12/site-packages (from ipywidgets->-r requirements.txt (line 7)) (0.2.2)\n",
      "Requirement already satisfied: ipython>=6.1.0 in ./.venv/lib/python3.12/site-packages (from ipywidgets->-r requirements.txt (line 7)) (9.0.2)\n",
      "Collecting widgetsnbextension~=4.0.12 (from ipywidgets->-r requirements.txt (line 7))\n",
      "  Downloading widgetsnbextension-4.0.13-py3-none-any.whl.metadata (1.6 kB)\n",
      "Collecting jupyterlab-widgets~=3.0.12 (from ipywidgets->-r requirements.txt (line 7))\n",
      "  Downloading jupyterlab_widgets-3.0.13-py3-none-any.whl.metadata (4.1 kB)\n",
      "Requirement already satisfied: decorator in ./.venv/lib/python3.12/site-packages (from ipython>=6.1.0->ipywidgets->-r requirements.txt (line 7)) (5.2.1)\n",
      "Requirement already satisfied: ipython-pygments-lexers in ./.venv/lib/python3.12/site-packages (from ipython>=6.1.0->ipywidgets->-r requirements.txt (line 7)) (1.1.1)\n",
      "Requirement already satisfied: jedi>=0.16 in ./.venv/lib/python3.12/site-packages (from ipython>=6.1.0->ipywidgets->-r requirements.txt (line 7)) (0.19.2)\n",
      "Requirement already satisfied: matplotlib-inline in ./.venv/lib/python3.12/site-packages (from ipython>=6.1.0->ipywidgets->-r requirements.txt (line 7)) (0.1.7)\n",
      "Requirement already satisfied: pexpect>4.3 in ./.venv/lib/python3.12/site-packages (from ipython>=6.1.0->ipywidgets->-r requirements.txt (line 7)) (4.9.0)\n",
      "Requirement already satisfied: prompt_toolkit<3.1.0,>=3.0.41 in ./.venv/lib/python3.12/site-packages (from ipython>=6.1.0->ipywidgets->-r requirements.txt (line 7)) (3.0.50)\n",
      "Requirement already satisfied: pygments>=2.4.0 in ./.venv/lib/python3.12/site-packages (from ipython>=6.1.0->ipywidgets->-r requirements.txt (line 7)) (2.19.1)\n",
      "Requirement already satisfied: stack_data in ./.venv/lib/python3.12/site-packages (from ipython>=6.1.0->ipywidgets->-r requirements.txt (line 7)) (0.6.3)\n",
      "Requirement already satisfied: attrs>=22.2.0 in ./.venv/lib/python3.12/site-packages (from jsonschema>=2.6->nbformat->-r requirements.txt (line 6)) (25.3.0)\n",
      "Requirement already satisfied: jsonschema-specifications>=2023.03.6 in ./.venv/lib/python3.12/site-packages (from jsonschema>=2.6->nbformat->-r requirements.txt (line 6)) (2024.10.1)\n",
      "Requirement already satisfied: referencing>=0.28.4 in ./.venv/lib/python3.12/site-packages (from jsonschema>=2.6->nbformat->-r requirements.txt (line 6)) (0.36.2)\n",
      "Requirement already satisfied: rpds-py>=0.7.1 in ./.venv/lib/python3.12/site-packages (from jsonschema>=2.6->nbformat->-r requirements.txt (line 6)) (0.24.0)\n",
      "Requirement already satisfied: platformdirs>=2.5 in ./.venv/lib/python3.12/site-packages (from jupyter-core!=5.0.*,>=4.12->nbformat->-r requirements.txt (line 6)) (4.3.7)\n",
      "Requirement already satisfied: six>=1.5 in ./.venv/lib/python3.12/site-packages (from python-dateutil>=2.8.2->pandas->-r requirements.txt (line 1)) (1.17.0)\n",
      "Requirement already satisfied: parso<0.9.0,>=0.8.4 in ./.venv/lib/python3.12/site-packages (from jedi>=0.16->ipython>=6.1.0->ipywidgets->-r requirements.txt (line 7)) (0.8.4)\n",
      "Requirement already satisfied: ptyprocess>=0.5 in ./.venv/lib/python3.12/site-packages (from pexpect>4.3->ipython>=6.1.0->ipywidgets->-r requirements.txt (line 7)) (0.7.0)\n",
      "Requirement already satisfied: wcwidth in ./.venv/lib/python3.12/site-packages (from prompt_toolkit<3.1.0,>=3.0.41->ipython>=6.1.0->ipywidgets->-r requirements.txt (line 7)) (0.2.13)\n",
      "Requirement already satisfied: typing-extensions>=4.4.0 in ./.venv/lib/python3.12/site-packages (from referencing>=0.28.4->jsonschema>=2.6->nbformat->-r requirements.txt (line 6)) (4.13.0)\n",
      "Requirement already satisfied: executing>=1.2.0 in ./.venv/lib/python3.12/site-packages (from stack_data->ipython>=6.1.0->ipywidgets->-r requirements.txt (line 7)) (2.2.0)\n",
      "Requirement already satisfied: asttokens>=2.1.0 in ./.venv/lib/python3.12/site-packages (from stack_data->ipython>=6.1.0->ipywidgets->-r requirements.txt (line 7)) (3.0.0)\n",
      "Requirement already satisfied: pure-eval in ./.venv/lib/python3.12/site-packages (from stack_data->ipython>=6.1.0->ipywidgets->-r requirements.txt (line 7)) (0.2.3)\n",
      "Downloading ipywidgets-8.1.5-py3-none-any.whl (139 kB)\n",
      "Downloading jupyterlab_widgets-3.0.13-py3-none-any.whl (214 kB)\n",
      "Downloading widgetsnbextension-4.0.13-py3-none-any.whl (2.3 MB)\n",
      "\u001b[2K   \u001b[90m━━━━━━━━━━━━━━━━━━━━━━━━━━━━━━━━━━━━━━━━\u001b[0m \u001b[32m2.3/2.3 MB\u001b[0m \u001b[31m24.5 MB/s\u001b[0m eta \u001b[36m0:00:00\u001b[0m\n",
      "\u001b[?25hInstalling collected packages: widgetsnbextension, jupyterlab-widgets, ipywidgets\n",
      "Successfully installed ipywidgets-8.1.5 jupyterlab-widgets-3.0.13 widgetsnbextension-4.0.13\n",
      "Note: you may need to restart the kernel to use updated packages.\n"
     ]
    }
   ],
   "source": [
    "pip install -r requirements.txt"
   ]
  },
  {
   "cell_type": "code",
   "execution_count": null,
   "metadata": {},
   "outputs": [],
   "source": [
    "# Bibliotecas necessárias\n",
    "import pandas as pd\n",
    "import numpy as np\n",
    "import matplotlib.pyplot as plt\n",
    "import seaborn as sns\n",
    "import plotly.express as px\n",
    "from IPython.display import display, Markdown"
   ]
  },
  {
   "cell_type": "markdown",
   "metadata": {},
   "source": [
    "# 2- Questão 1:"
   ]
  },
  {
   "cell_type": "markdown",
   "metadata": {},
   "source": [
    "### 1) CDBs e Conversão de Taxas\n",
    "\n",
    "Buscar ao menos **3 CDBs de bancos de sua preferência** que declarem **taxas ao ano** e transformá-las em **taxas capitalizadas mensalmente**, programando esse processo em Python.\n",
    "\n",
    "Além disso, declarar qual será o **retorno líquido dos investimentos, já descontados impostos e taxas**, para cada uma das opções analisadas.\n"
   ]
  },
  {
   "cell_type": "markdown",
   "metadata": {},
   "source": [
    "# 3 - Questão 2:"
   ]
  },
  {
   "cell_type": "markdown",
   "metadata": {},
   "source": [
    "### 2) Comparação de Retorno: Tesouro IPCA+ vs. Juros Pré-fixados\n",
    "\n",
    "Programar em Python uma simulação para comparar o **retorno líquido** entre o **Tesouro IPCA+** e um título com **juros pré-fixados**, considerando **tempos de vencimentos equivalentes**.\n",
    "\n",
    "O valor do investimento monetário fica a **critério do grupo simular**.\n",
    "\n",
    "O objetivo é verificar **qual dos dois investimentos se torna mais vantajoso após os descontos de impostos e taxas**.\n"
   ]
  },
  {
   "cell_type": "markdown",
   "metadata": {},
   "source": [
    "# 4- Questão 3: "
   ]
  },
  {
   "cell_type": "markdown",
   "metadata": {},
   "source": [
    "### 3) Programar em Python o quanto de aporte financeiro é necessário para alcançar em 7 anos, 10 anos e 12 anos:\n",
    "\n",
    "- A) R$30.000  \n",
    "- B) R$50.000  \n",
    "- C) R$100.000  \n",
    "\n",
    "Considerando uma **taxa de juros real efetiva de 7% ao ano** em todos esses cenários.\n"
   ]
  },
  {
   "cell_type": "code",
   "execution_count": null,
   "metadata": {},
   "outputs": [],
   "source": [
    "def gerar_dados(montante_desejado, anos, taxa_juros_anual):\n",
    "    i = (1 + taxa_juros_anual) ** (1 / 12) - 1\n",
    "    n = anos * 12\n",
    "    R = montante_desejado * i / ((1 + i) ** n - 1)\n",
    "    meses = np.arange(1, n + 1)\n",
    "    montantes = R * ((1 + i) ** meses - 1) / i\n",
    "    df = pd.DataFrame({\n",
    "        'Mês': meses,\n",
    "        'Montante Acumulado (R$)': montantes,\n",
    "        'Prazo (anos)': f'{anos} anos'\n",
    "    })\n",
    "    return R, df"
   ]
  },
  {
   "cell_type": "code",
   "execution_count": null,
   "metadata": {},
   "outputs": [],
   "source": [
    "def calcular_para_varios_anos_matplotlib(montante_desejado, anos_lista, taxa_juros_anual=0.07):\n",
    "    resultados = {}\n",
    "    dfs = []\n",
    "\n",
    "    for anos in anos_lista:\n",
    "        R, df = gerar_dados(montante_desejado, anos, taxa_juros_anual)\n",
    "        resultados[anos] = R\n",
    "        dfs.append(df)\n",
    "\n",
    "        # Print dos aportes\n",
    "        display(Markdown(f\"**{anos} anos** → R$ {R:.2f} por mês\"))\n",
    "\n",
    "        # Gráfico individual\n",
    "        plt.figure(figsize=(8, 4))\n",
    "        plt.plot(df['Mês'], df['Montante Acumulado (R$)'], label=f'{anos} anos')\n",
    "        plt.title(f'Evolução do Montante - {anos} anos')\n",
    "        plt.xlabel('Meses')\n",
    "        plt.ylabel('Montante Acumulado (R$)')\n",
    "        plt.grid(True)\n",
    "        plt.tight_layout()\n",
    "        plt.show()\n",
    "\n",
    "    # Gráfico combinado com todos os anos\n",
    "    plt.figure(figsize=(10, 5))\n",
    "    for df in dfs:\n",
    "        label = df['Prazo (anos)'].iloc[0]\n",
    "        plt.plot(df['Mês'], df['Montante Acumulado (R$)'], label=label)\n",
    "    plt.title(f'Evolução do Montante para Meta de R$ {montante_desejado:,.2f} - Todos os Prazos')\n",
    "    plt.xlabel('Meses')\n",
    "    plt.ylabel('Montante Acumulado (R$)')\n",
    "    plt.legend()\n",
    "    plt.grid(True)\n",
    "    plt.tight_layout()\n",
    "    plt.show()\n",
    "\n",
    "    return resultados"
   ]
  }
 ],
 "metadata": {
  "kernelspec": {
   "display_name": ".venv",
   "language": "python",
   "name": "python3"
  },
  "language_info": {
   "codemirror_mode": {
    "name": "ipython",
    "version": 3
   },
   "file_extension": ".py",
   "mimetype": "text/x-python",
   "name": "python",
   "nbconvert_exporter": "python",
   "pygments_lexer": "ipython3",
   "version": "3.12.0"
  }
 },
 "nbformat": 4,
 "nbformat_minor": 2
}
